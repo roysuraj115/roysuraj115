{
 "cells": [
  {
   "cell_type": "code",
   "execution_count": 31,
   "id": "20589b3c",
   "metadata": {},
   "outputs": [],
   "source": [
    "#importing the necsary libraries\n",
    "import pandas as pd\n",
    "import numpy as np\n",
    "import seaborn as sns\n",
    "import matplotlib.pyplot as plt"
   ]
  },
  {
   "cell_type": "code",
   "execution_count": null,
   "id": "6fe8ec87",
   "metadata": {},
   "outputs": [],
   "source": [
    "#loading the dataset\n",
    "df=pd.read_excel(\"Sample data.xlsx\")"
   ]
  },
  {
   "cell_type": "code",
   "execution_count": null,
   "id": "976f8553",
   "metadata": {},
   "outputs": [],
   "source": [
    "#cheking if the data is loaded or not\n",
    "df.head()"
   ]
  },
  {
   "cell_type": "code",
   "execution_count": null,
   "id": "d05845f7",
   "metadata": {},
   "outputs": [],
   "source": [
    "#exploring the dataset"
   ]
  },
  {
   "cell_type": "code",
   "execution_count": null,
   "id": "ede49bda",
   "metadata": {},
   "outputs": [],
   "source": [
    "#plotting for Billing date\n",
    "plt.figure(figsize=(10,5))\n",
    "x=df['Billing Date'].value_counts().head(10).index\n",
    "y=df['Billing Date'].value_counts().head(10)\n",
    "sns.barplot(y,x)\n",
    "plt.xlabel(\"Count\")\n",
    "plt.ylabel(\"Billing Date\")\n",
    "plt.show()"
   ]
  },
  {
   "cell_type": "code",
   "execution_count": null,
   "id": "ad668a47",
   "metadata": {},
   "outputs": [],
   "source": [
    "#plotting for the customer\n",
    "plt.figure(figsize=(10,5))\n",
    "sns.barplot(x=df['Customer Code'].value_counts().head(10).index,y=df['Customer Code'].value_counts().head(10))\n",
    "plt.xlabel(\"customer Code\")\n",
    "plt.ylabel(\"coun\")\n",
    "plt.show()"
   ]
  },
  {
   "cell_type": "code",
   "execution_count": null,
   "id": "e73b2647",
   "metadata": {},
   "outputs": [],
   "source": [
    "#plotting for the distributor\n",
    "plt.figure(figsize=(10,5))\n",
    "x=df['Distributor'].value_counts().head(10).index\n",
    "y=df['Distributor'].value_counts().head(10)\n",
    "sns.barplot(y,x)\n",
    "plt.xlabel('count')\n",
    "plt.ylabel('Distributor')\n",
    "plt.show()"
   ]
  },
  {
   "cell_type": "code",
   "execution_count": null,
   "id": "6993f8d8",
   "metadata": {},
   "outputs": [],
   "source": [
    "plt.figure(figsize=(10,5))\n",
    "x=df['Material Code'].value_counts().head(10).index\n",
    "y=df['Material Code'].value_counts().head(10)\n",
    "sns.barplot(y,x)\n",
    "plt.xlabel('count')\n",
    "plt.ylabel('Material Code')"
   ]
  },
  {
   "cell_type": "code",
   "execution_count": null,
   "id": "6e626975",
   "metadata": {},
   "outputs": [],
   "source": [
    "plt.figure(figsize=(10,5))\n",
    "x=df['Product Type'].value_counts().head(10).index\n",
    "y=df['Product Type'].value_counts().head(10)\n",
    "sns.barplot(y,x)\n",
    "plt.xlabel('count')\n",
    "plt.ylabel('Product Type')"
   ]
  },
  {
   "cell_type": "code",
   "execution_count": null,
   "id": "19de635f",
   "metadata": {},
   "outputs": [],
   "source": [
    "plt.figure(figsize=(10,5))\n",
    "x=df['Pack Classification'].value_counts().head(10).index\n",
    "y=df['Pack Classification'].value_counts().head(10)\n",
    "sns.barplot(y,x)\n",
    "plt.xlabel('count')\n",
    "plt.ylabel('Pack Classification')"
   ]
  },
  {
   "cell_type": "code",
   "execution_count": null,
   "id": "9a7e1539",
   "metadata": {},
   "outputs": [],
   "source": [
    "plt.figure(figsize=(10,5))\n",
    "x=df['Pack Type'].value_counts().head(10).index\n",
    "y=df['Pack Type'].value_counts().head(10)\n",
    "sns.barplot(y,x)\n",
    "plt.xlabel('count')\n",
    "plt.ylabel('Pack Type')"
   ]
  },
  {
   "cell_type": "code",
   "execution_count": null,
   "id": "ee8db329",
   "metadata": {},
   "outputs": [],
   "source": [
    "plt.figure(figsize=(10,5))\n",
    "x=df['Pack Size'].value_counts().head(10).index\n",
    "y=df['Pack Size'].value_counts().head(10)\n",
    "sns.barplot(y,x)\n",
    "plt.xlabel('count')\n",
    "plt.ylabel('Pack Size')"
   ]
  },
  {
   "cell_type": "code",
   "execution_count": null,
   "id": "cf8e9c20",
   "metadata": {},
   "outputs": [],
   "source": [
    "plt.figure(figsize=(10,5))\n",
    "x=df['YTD Vol (MT)'].value_counts().head(10).index\n",
    "y=df['YTD Vol (MT)'].value_counts().head(10)\n",
    "sns.barplot(x,y)\n",
    "plt.xlabel('YTD Vol (MT)')\n",
    "plt.ylabel('count')"
   ]
  },
  {
   "cell_type": "code",
   "execution_count": null,
   "id": "6fcbacf1",
   "metadata": {},
   "outputs": [],
   "source": [
    "sns"
   ]
  },
  {
   "cell_type": "code",
   "execution_count": null,
   "id": "6284a833",
   "metadata": {},
   "outputs": [],
   "source": [
    "#Checking the dayatype"
   ]
  },
  {
   "cell_type": "code",
   "execution_count": null,
   "id": "5103a360",
   "metadata": {},
   "outputs": [],
   "source": [
    "df.info()"
   ]
  },
  {
   "cell_type": "code",
   "execution_count": null,
   "id": "82977ed0",
   "metadata": {},
   "outputs": [],
   "source": [
    "#converting the numeric type to string and string to numeric data type\n",
    "df=df.astype(str)\n"
   ]
  },
  {
   "cell_type": "code",
   "execution_count": null,
   "id": "46bb3d63",
   "metadata": {},
   "outputs": [],
   "source": [
    "df.info()"
   ]
  },
  {
   "cell_type": "code",
   "execution_count": null,
   "id": "312efbc0",
   "metadata": {},
   "outputs": [],
   "source": [
    "df = df.infer_objects()\n",
    "df.info()"
   ]
  },
  {
   "cell_type": "code",
   "execution_count": null,
   "id": "69c206b4",
   "metadata": {},
   "outputs": [],
   "source": [
    "df.head()"
   ]
  },
  {
   "cell_type": "code",
   "execution_count": null,
   "id": "3d4713fa",
   "metadata": {},
   "outputs": [],
   "source": [
    "df['YTD Vol (MT)']=df['YTD Vol (MT)'].astype(float)"
   ]
  },
  {
   "cell_type": "code",
   "execution_count": null,
   "id": "b5230243",
   "metadata": {},
   "outputs": [],
   "source": [
    "df['YTD Vol (MT)']=df['YTD Vol (MT)'].astype(int)"
   ]
  },
  {
   "cell_type": "code",
   "execution_count": null,
   "id": "afcd5a39",
   "metadata": {},
   "outputs": [],
   "source": [
    "df['Customer Code']=df['Customer Code'].astype(int)"
   ]
  },
  {
   "cell_type": "code",
   "execution_count": null,
   "id": "cc66b0e2",
   "metadata": {},
   "outputs": [],
   "source": [
    "df.info()"
   ]
  },
  {
   "cell_type": "code",
   "execution_count": null,
   "id": "661d9f36",
   "metadata": {},
   "outputs": [],
   "source": [
    "# using group by\n",
    "df.groupby([\"Billing Date\",\"Customer Code\"])[\"Customer Code\"].count()"
   ]
  },
  {
   "cell_type": "code",
   "execution_count": null,
   "id": "d3285856",
   "metadata": {},
   "outputs": [],
   "source": [
    "df.groupby([\"Billing Date\",\"Customer Code\"])[\"Customer Code\"].max()"
   ]
  },
  {
   "cell_type": "code",
   "execution_count": null,
   "id": "21446924",
   "metadata": {},
   "outputs": [],
   "source": [
    "#making two dataframe for merge function\n",
    "df1=df[[\"Sales Zone\",\"Billing Date\",\"Customer Code\",\"Distributor\",\"Material Code\"]].copy()\n",
    "df2=df[[\"Material Code\",\"Product Type\",\"Pack Classification\",\"Pack Type\",\"YTD Vol (MT)\"]].copy()"
   ]
  },
  {
   "cell_type": "code",
   "execution_count": null,
   "id": "58ac3cc7",
   "metadata": {},
   "outputs": [],
   "source": [
    "df3=pd.merge(df1,df2,how=\"outer\",on=\"Material Code\")"
   ]
  },
  {
   "cell_type": "markdown",
   "id": "9cc2fb98",
   "metadata": {},
   "source": [
    "#doing Machine Learning\n"
   ]
  },
  {
   "cell_type": "code",
   "execution_count": null,
   "id": "acd96f6c",
   "metadata": {},
   "outputs": [],
   "source": [
    "#dropping the unnecessary columns\n",
    "df.columns"
   ]
  },
  {
   "cell_type": "code",
   "execution_count": null,
   "id": "de387236",
   "metadata": {},
   "outputs": [],
   "source": [
    "from sklearn.preprocessing import LabelEncoder\n",
    "le=LabelEncoder()"
   ]
  },
  {
   "cell_type": "code",
   "execution_count": null,
   "id": "0247d4ee",
   "metadata": {},
   "outputs": [],
   "source": [
    "df['Material Code']=le.fit_transform(df['Material Code'])\n",
    "df['Product Type']=le.fit_transform(df['Product Type'])\n",
    "df['Distributor']=le.fit_transform(df['Distributor'])"
   ]
  },
  {
   "cell_type": "code",
   "execution_count": null,
   "id": "92c3edae",
   "metadata": {},
   "outputs": [],
   "source": [
    "df.pop('Sales Zone')\n",
    "df.pop('Billing Date')\n",
    "df.pop('Customer Code')\n",
    "df.pop('Pack Classification')\n",
    "df.pop('Pack Type')\n",
    "df.pop('Pack Size')\n",
    "df.pop('YTD Vol (MT)')"
   ]
  },
  {
   "cell_type": "code",
   "execution_count": null,
   "id": "684590b7",
   "metadata": {},
   "outputs": [],
   "source": [
    "df.head(10)"
   ]
  },
  {
   "cell_type": "code",
   "execution_count": null,
   "id": "0d67601f",
   "metadata": {},
   "outputs": [],
   "source": [
    "df.info()"
   ]
  },
  {
   "cell_type": "code",
   "execution_count": null,
   "id": "a82b94cb",
   "metadata": {},
   "outputs": [],
   "source": [
    "from sklearn.model_selection import train_test_split\n",
    "x=df.drop(columns='Product Type')\n",
    "y=df['Product Type']\n",
    "x_train,x_test,y_train,y_test=train_test_split(x,y,test_size=0.30)"
   ]
  },
  {
   "cell_type": "code",
   "execution_count": null,
   "id": "99ab506e",
   "metadata": {},
   "outputs": [],
   "source": [
    "from sklearn.neighbors import KNeighborsClassifier\n",
    "model=KNeighborsClassifier()\n",
    "model.fit(x_train,y_train)\n",
    "ypred=model.predict(x_test)\n",
    "ypred"
   ]
  },
  {
   "cell_type": "code",
   "execution_count": null,
   "id": "30241c50",
   "metadata": {},
   "outputs": [],
   "source": [
    "df.groupby(\"Distributor\")[\"Product Type\"].count()"
   ]
  },
  {
   "cell_type": "code",
   "execution_count": null,
   "id": "65f05841",
   "metadata": {},
   "outputs": [],
   "source": [
    "model.score(x_test,y_test)*100"
   ]
  },
  {
   "cell_type": "code",
   "execution_count": null,
   "id": "c876faee",
   "metadata": {},
   "outputs": [],
   "source": []
  },
  {
   "cell_type": "code",
   "execution_count": null,
   "id": "329b87df",
   "metadata": {},
   "outputs": [],
   "source": []
  },
  {
   "cell_type": "code",
   "execution_count": null,
   "id": "6a5d63ce",
   "metadata": {},
   "outputs": [],
   "source": []
  }
 ],
 "metadata": {
  "kernelspec": {
   "display_name": "Python 3 (ipykernel)",
   "language": "python",
   "name": "python3"
  },
  "language_info": {
   "codemirror_mode": {
    "name": "ipython",
    "version": 3
   },
   "file_extension": ".py",
   "mimetype": "text/x-python",
   "name": "python",
   "nbconvert_exporter": "python",
   "pygments_lexer": "ipython3",
   "version": "3.9.7"
  }
 },
 "nbformat": 4,
 "nbformat_minor": 5
}
